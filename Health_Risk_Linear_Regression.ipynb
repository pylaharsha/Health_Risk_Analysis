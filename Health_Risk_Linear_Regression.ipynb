{
  "nbformat": 4,
  "nbformat_minor": 0,
  "metadata": {
    "colab": {
      "provenance": []
    },
    "kernelspec": {
      "name": "python3",
      "display_name": "Python 3"
    },
    "language_info": {
      "name": "python"
    }
  },
  "cells": [
    {
      "cell_type": "code",
      "source": [
        "from google.colab import drive\n",
        "drive.mount('/content/drive')"
      ],
      "metadata": {
        "colab": {
          "base_uri": "https://localhost:8080/"
        },
        "id": "jvqnfXAcz85b",
        "outputId": "9065aafd-82c7-4279-f481-aa54110286c2"
      },
      "execution_count": 2,
      "outputs": [
        {
          "output_type": "stream",
          "name": "stdout",
          "text": [
            "Mounted at /content/drive\n"
          ]
        }
      ]
    },
    {
      "cell_type": "code",
      "execution_count": 1,
      "metadata": {
        "id": "zKbrEGEtz6yl"
      },
      "outputs": [],
      "source": [
        "import numpy as np\n",
        "import pandas as pd\n",
        "from sklearn.model_selection import train_test_split\n",
        "from sklearn.preprocessing import StandardScaler, LabelEncoder\n",
        "from sklearn.linear_model import LinearRegression\n",
        "from sklearn.metrics import mean_absolute_error, mean_squared_error, r2_score\n",
        "import matplotlib.pyplot as plt"
      ]
    },
    {
      "cell_type": "code",
      "source": [
        "data = pd.read_csv('/content/drive/MyDrive/health_data/health_risk_data.csv')"
      ],
      "metadata": {
        "id": "nhze53dRz7iO"
      },
      "execution_count": 3,
      "outputs": []
    },
    {
      "cell_type": "code",
      "source": [
        "data = data.dropna()\n",
        "data.isnull().sum()"
      ],
      "metadata": {
        "colab": {
          "base_uri": "https://localhost:8080/"
        },
        "id": "2DO-I6jfz8CY",
        "outputId": "fc84535a-5954-4483-f9ed-91783a056c79"
      },
      "execution_count": 5,
      "outputs": [
        {
          "output_type": "execute_result",
          "data": {
            "text/plain": [
              "Age                  0\n",
              "BMI                  0\n",
              "Blood_Pressure       0\n",
              "Cholesterol          0\n",
              "Smoking_Status       0\n",
              "Physical_Activity    0\n",
              "Diet_Quality         0\n",
              "Health_Risk_Score    0\n",
              "dtype: int64"
            ]
          },
          "metadata": {},
          "execution_count": 5
        }
      ]
    },
    {
      "cell_type": "code",
      "source": [
        "data.head()"
      ],
      "metadata": {
        "colab": {
          "base_uri": "https://localhost:8080/",
          "height": 206
        },
        "id": "ZVx2lKmj0O0Q",
        "outputId": "e92df950-9e3e-45b0-b4db-926ac962a18d"
      },
      "execution_count": 6,
      "outputs": [
        {
          "output_type": "execute_result",
          "data": {
            "text/plain": [
              "   Age        BMI  Blood_Pressure  Cholesterol Smoking_Status  \\\n",
              "0   58  28.598790             125          203             No   \n",
              "1   71  33.664904             173          153            Yes   \n",
              "2   48  19.799615             161          235            Yes   \n",
              "3   34  27.917254             125          219            Yes   \n",
              "4   62  23.810537             129          200            Yes   \n",
              "\n",
              "  Physical_Activity Diet_Quality  Health_Risk_Score  \n",
              "0              High         Poor                  7  \n",
              "1            Medium         Poor                  6  \n",
              "2            Medium         Poor                  7  \n",
              "3               Low         Good                  1  \n",
              "4               Low      Average                  8  "
            ],
            "text/html": [
              "\n",
              "  <div id=\"df-b416cbdb-9692-4c9c-9183-cd711e4eefca\" class=\"colab-df-container\">\n",
              "    <div>\n",
              "<style scoped>\n",
              "    .dataframe tbody tr th:only-of-type {\n",
              "        vertical-align: middle;\n",
              "    }\n",
              "\n",
              "    .dataframe tbody tr th {\n",
              "        vertical-align: top;\n",
              "    }\n",
              "\n",
              "    .dataframe thead th {\n",
              "        text-align: right;\n",
              "    }\n",
              "</style>\n",
              "<table border=\"1\" class=\"dataframe\">\n",
              "  <thead>\n",
              "    <tr style=\"text-align: right;\">\n",
              "      <th></th>\n",
              "      <th>Age</th>\n",
              "      <th>BMI</th>\n",
              "      <th>Blood_Pressure</th>\n",
              "      <th>Cholesterol</th>\n",
              "      <th>Smoking_Status</th>\n",
              "      <th>Physical_Activity</th>\n",
              "      <th>Diet_Quality</th>\n",
              "      <th>Health_Risk_Score</th>\n",
              "    </tr>\n",
              "  </thead>\n",
              "  <tbody>\n",
              "    <tr>\n",
              "      <th>0</th>\n",
              "      <td>58</td>\n",
              "      <td>28.598790</td>\n",
              "      <td>125</td>\n",
              "      <td>203</td>\n",
              "      <td>No</td>\n",
              "      <td>High</td>\n",
              "      <td>Poor</td>\n",
              "      <td>7</td>\n",
              "    </tr>\n",
              "    <tr>\n",
              "      <th>1</th>\n",
              "      <td>71</td>\n",
              "      <td>33.664904</td>\n",
              "      <td>173</td>\n",
              "      <td>153</td>\n",
              "      <td>Yes</td>\n",
              "      <td>Medium</td>\n",
              "      <td>Poor</td>\n",
              "      <td>6</td>\n",
              "    </tr>\n",
              "    <tr>\n",
              "      <th>2</th>\n",
              "      <td>48</td>\n",
              "      <td>19.799615</td>\n",
              "      <td>161</td>\n",
              "      <td>235</td>\n",
              "      <td>Yes</td>\n",
              "      <td>Medium</td>\n",
              "      <td>Poor</td>\n",
              "      <td>7</td>\n",
              "    </tr>\n",
              "    <tr>\n",
              "      <th>3</th>\n",
              "      <td>34</td>\n",
              "      <td>27.917254</td>\n",
              "      <td>125</td>\n",
              "      <td>219</td>\n",
              "      <td>Yes</td>\n",
              "      <td>Low</td>\n",
              "      <td>Good</td>\n",
              "      <td>1</td>\n",
              "    </tr>\n",
              "    <tr>\n",
              "      <th>4</th>\n",
              "      <td>62</td>\n",
              "      <td>23.810537</td>\n",
              "      <td>129</td>\n",
              "      <td>200</td>\n",
              "      <td>Yes</td>\n",
              "      <td>Low</td>\n",
              "      <td>Average</td>\n",
              "      <td>8</td>\n",
              "    </tr>\n",
              "  </tbody>\n",
              "</table>\n",
              "</div>\n",
              "    <div class=\"colab-df-buttons\">\n",
              "\n",
              "  <div class=\"colab-df-container\">\n",
              "    <button class=\"colab-df-convert\" onclick=\"convertToInteractive('df-b416cbdb-9692-4c9c-9183-cd711e4eefca')\"\n",
              "            title=\"Convert this dataframe to an interactive table.\"\n",
              "            style=\"display:none;\">\n",
              "\n",
              "  <svg xmlns=\"http://www.w3.org/2000/svg\" height=\"24px\" viewBox=\"0 -960 960 960\">\n",
              "    <path d=\"M120-120v-720h720v720H120Zm60-500h600v-160H180v160Zm220 220h160v-160H400v160Zm0 220h160v-160H400v160ZM180-400h160v-160H180v160Zm440 0h160v-160H620v160ZM180-180h160v-160H180v160Zm440 0h160v-160H620v160Z\"/>\n",
              "  </svg>\n",
              "    </button>\n",
              "\n",
              "  <style>\n",
              "    .colab-df-container {\n",
              "      display:flex;\n",
              "      gap: 12px;\n",
              "    }\n",
              "\n",
              "    .colab-df-convert {\n",
              "      background-color: #E8F0FE;\n",
              "      border: none;\n",
              "      border-radius: 50%;\n",
              "      cursor: pointer;\n",
              "      display: none;\n",
              "      fill: #1967D2;\n",
              "      height: 32px;\n",
              "      padding: 0 0 0 0;\n",
              "      width: 32px;\n",
              "    }\n",
              "\n",
              "    .colab-df-convert:hover {\n",
              "      background-color: #E2EBFA;\n",
              "      box-shadow: 0px 1px 2px rgba(60, 64, 67, 0.3), 0px 1px 3px 1px rgba(60, 64, 67, 0.15);\n",
              "      fill: #174EA6;\n",
              "    }\n",
              "\n",
              "    .colab-df-buttons div {\n",
              "      margin-bottom: 4px;\n",
              "    }\n",
              "\n",
              "    [theme=dark] .colab-df-convert {\n",
              "      background-color: #3B4455;\n",
              "      fill: #D2E3FC;\n",
              "    }\n",
              "\n",
              "    [theme=dark] .colab-df-convert:hover {\n",
              "      background-color: #434B5C;\n",
              "      box-shadow: 0px 1px 3px 1px rgba(0, 0, 0, 0.15);\n",
              "      filter: drop-shadow(0px 1px 2px rgba(0, 0, 0, 0.3));\n",
              "      fill: #FFFFFF;\n",
              "    }\n",
              "  </style>\n",
              "\n",
              "    <script>\n",
              "      const buttonEl =\n",
              "        document.querySelector('#df-b416cbdb-9692-4c9c-9183-cd711e4eefca button.colab-df-convert');\n",
              "      buttonEl.style.display =\n",
              "        google.colab.kernel.accessAllowed ? 'block' : 'none';\n",
              "\n",
              "      async function convertToInteractive(key) {\n",
              "        const element = document.querySelector('#df-b416cbdb-9692-4c9c-9183-cd711e4eefca');\n",
              "        const dataTable =\n",
              "          await google.colab.kernel.invokeFunction('convertToInteractive',\n",
              "                                                    [key], {});\n",
              "        if (!dataTable) return;\n",
              "\n",
              "        const docLinkHtml = 'Like what you see? Visit the ' +\n",
              "          '<a target=\"_blank\" href=https://colab.research.google.com/notebooks/data_table.ipynb>data table notebook</a>'\n",
              "          + ' to learn more about interactive tables.';\n",
              "        element.innerHTML = '';\n",
              "        dataTable['output_type'] = 'display_data';\n",
              "        await google.colab.output.renderOutput(dataTable, element);\n",
              "        const docLink = document.createElement('div');\n",
              "        docLink.innerHTML = docLinkHtml;\n",
              "        element.appendChild(docLink);\n",
              "      }\n",
              "    </script>\n",
              "  </div>\n",
              "\n",
              "\n",
              "<div id=\"df-3263c0f7-3859-477b-a976-c6be766e78f7\">\n",
              "  <button class=\"colab-df-quickchart\" onclick=\"quickchart('df-3263c0f7-3859-477b-a976-c6be766e78f7')\"\n",
              "            title=\"Suggest charts\"\n",
              "            style=\"display:none;\">\n",
              "\n",
              "<svg xmlns=\"http://www.w3.org/2000/svg\" height=\"24px\"viewBox=\"0 0 24 24\"\n",
              "     width=\"24px\">\n",
              "    <g>\n",
              "        <path d=\"M19 3H5c-1.1 0-2 .9-2 2v14c0 1.1.9 2 2 2h14c1.1 0 2-.9 2-2V5c0-1.1-.9-2-2-2zM9 17H7v-7h2v7zm4 0h-2V7h2v10zm4 0h-2v-4h2v4z\"/>\n",
              "    </g>\n",
              "</svg>\n",
              "  </button>\n",
              "\n",
              "<style>\n",
              "  .colab-df-quickchart {\n",
              "      --bg-color: #E8F0FE;\n",
              "      --fill-color: #1967D2;\n",
              "      --hover-bg-color: #E2EBFA;\n",
              "      --hover-fill-color: #174EA6;\n",
              "      --disabled-fill-color: #AAA;\n",
              "      --disabled-bg-color: #DDD;\n",
              "  }\n",
              "\n",
              "  [theme=dark] .colab-df-quickchart {\n",
              "      --bg-color: #3B4455;\n",
              "      --fill-color: #D2E3FC;\n",
              "      --hover-bg-color: #434B5C;\n",
              "      --hover-fill-color: #FFFFFF;\n",
              "      --disabled-bg-color: #3B4455;\n",
              "      --disabled-fill-color: #666;\n",
              "  }\n",
              "\n",
              "  .colab-df-quickchart {\n",
              "    background-color: var(--bg-color);\n",
              "    border: none;\n",
              "    border-radius: 50%;\n",
              "    cursor: pointer;\n",
              "    display: none;\n",
              "    fill: var(--fill-color);\n",
              "    height: 32px;\n",
              "    padding: 0;\n",
              "    width: 32px;\n",
              "  }\n",
              "\n",
              "  .colab-df-quickchart:hover {\n",
              "    background-color: var(--hover-bg-color);\n",
              "    box-shadow: 0 1px 2px rgba(60, 64, 67, 0.3), 0 1px 3px 1px rgba(60, 64, 67, 0.15);\n",
              "    fill: var(--button-hover-fill-color);\n",
              "  }\n",
              "\n",
              "  .colab-df-quickchart-complete:disabled,\n",
              "  .colab-df-quickchart-complete:disabled:hover {\n",
              "    background-color: var(--disabled-bg-color);\n",
              "    fill: var(--disabled-fill-color);\n",
              "    box-shadow: none;\n",
              "  }\n",
              "\n",
              "  .colab-df-spinner {\n",
              "    border: 2px solid var(--fill-color);\n",
              "    border-color: transparent;\n",
              "    border-bottom-color: var(--fill-color);\n",
              "    animation:\n",
              "      spin 1s steps(1) infinite;\n",
              "  }\n",
              "\n",
              "  @keyframes spin {\n",
              "    0% {\n",
              "      border-color: transparent;\n",
              "      border-bottom-color: var(--fill-color);\n",
              "      border-left-color: var(--fill-color);\n",
              "    }\n",
              "    20% {\n",
              "      border-color: transparent;\n",
              "      border-left-color: var(--fill-color);\n",
              "      border-top-color: var(--fill-color);\n",
              "    }\n",
              "    30% {\n",
              "      border-color: transparent;\n",
              "      border-left-color: var(--fill-color);\n",
              "      border-top-color: var(--fill-color);\n",
              "      border-right-color: var(--fill-color);\n",
              "    }\n",
              "    40% {\n",
              "      border-color: transparent;\n",
              "      border-right-color: var(--fill-color);\n",
              "      border-top-color: var(--fill-color);\n",
              "    }\n",
              "    60% {\n",
              "      border-color: transparent;\n",
              "      border-right-color: var(--fill-color);\n",
              "    }\n",
              "    80% {\n",
              "      border-color: transparent;\n",
              "      border-right-color: var(--fill-color);\n",
              "      border-bottom-color: var(--fill-color);\n",
              "    }\n",
              "    90% {\n",
              "      border-color: transparent;\n",
              "      border-bottom-color: var(--fill-color);\n",
              "    }\n",
              "  }\n",
              "</style>\n",
              "\n",
              "  <script>\n",
              "    async function quickchart(key) {\n",
              "      const quickchartButtonEl =\n",
              "        document.querySelector('#' + key + ' button');\n",
              "      quickchartButtonEl.disabled = true;  // To prevent multiple clicks.\n",
              "      quickchartButtonEl.classList.add('colab-df-spinner');\n",
              "      try {\n",
              "        const charts = await google.colab.kernel.invokeFunction(\n",
              "            'suggestCharts', [key], {});\n",
              "      } catch (error) {\n",
              "        console.error('Error during call to suggestCharts:', error);\n",
              "      }\n",
              "      quickchartButtonEl.classList.remove('colab-df-spinner');\n",
              "      quickchartButtonEl.classList.add('colab-df-quickchart-complete');\n",
              "    }\n",
              "    (() => {\n",
              "      let quickchartButtonEl =\n",
              "        document.querySelector('#df-3263c0f7-3859-477b-a976-c6be766e78f7 button');\n",
              "      quickchartButtonEl.style.display =\n",
              "        google.colab.kernel.accessAllowed ? 'block' : 'none';\n",
              "    })();\n",
              "  </script>\n",
              "</div>\n",
              "\n",
              "    </div>\n",
              "  </div>\n"
            ],
            "application/vnd.google.colaboratory.intrinsic+json": {
              "type": "dataframe",
              "variable_name": "data"
            }
          },
          "metadata": {},
          "execution_count": 6
        }
      ]
    },
    {
      "cell_type": "code",
      "source": [
        "data = {\n",
        "    'Age': np.random.randint(20, 80, size=100),\n",
        "    'BMI': np.random.uniform(18, 35, size=100),\n",
        "    'Blood_Pressure': np.random.randint(90, 180, size=100),\n",
        "    'Cholesterol': np.random.randint(150, 250, size=100),\n",
        "    'Smoking_Status': np.random.choice(['Yes', 'No'], size=100),\n",
        "    'Physical_Activity': np.random.choice(['Low', 'Medium', 'High'], size=100),\n",
        "    'Diet_Quality': np.random.choice(['Poor', 'Average', 'Good'], size=100),\n",
        "    'Health_Risk_Score': np.random.randint(1, 10, size=100)\n",
        "}"
      ],
      "metadata": {
        "id": "7uVwdZG50XMG"
      },
      "execution_count": 7,
      "outputs": []
    },
    {
      "cell_type": "code",
      "source": [
        "df = pd.DataFrame(data)"
      ],
      "metadata": {
        "id": "AeAATFgx0dJh"
      },
      "execution_count": 8,
      "outputs": []
    },
    {
      "cell_type": "code",
      "source": [
        "label_encoders = {}\n",
        "for column in ['Smoking_Status', 'Physical_Activity', 'Diet_Quality']:\n",
        "    le = LabelEncoder()\n",
        "    df[column] = le.fit_transform(df[column])\n",
        "    label_encoders[column] = le"
      ],
      "metadata": {
        "id": "UcjwkGF20gUq"
      },
      "execution_count": 9,
      "outputs": []
    },
    {
      "cell_type": "code",
      "source": [
        "df = df.fillna(df.mean())\n",
        "\n",
        "# Select features and target variable\n",
        "X = df.drop('Health_Risk_Score', axis=1)\n",
        "y = df['Health_Risk_Score']"
      ],
      "metadata": {
        "id": "8AccN98d0k5V"
      },
      "execution_count": 10,
      "outputs": []
    },
    {
      "cell_type": "code",
      "source": [
        "X_train, X_test, y_train, y_test = train_test_split(X, y, test_size=0.2, random_state=20)\n",
        "\n",
        "# Normalize the features\n",
        "scaler = StandardScaler()\n",
        "X_train_scaled = scaler.fit_transform(X_train)\n",
        "X_test_scaled = scaler.transform(X_test)"
      ],
      "metadata": {
        "id": "eSBW98PH0nwO"
      },
      "execution_count": 11,
      "outputs": []
    },
    {
      "cell_type": "code",
      "source": [
        "model = LinearRegression()\n",
        "model.fit(X_train_scaled, y_train)\n",
        "\n",
        "# Make predictions on the test set\n",
        "y_pred = model.predict(X_test_scaled)"
      ],
      "metadata": {
        "id": "9j71pDzN0qQw"
      },
      "execution_count": 12,
      "outputs": []
    },
    {
      "cell_type": "code",
      "source": [
        "mae = mean_absolute_error(y_test, y_pred)\n",
        "rmse = np.sqrt(mean_squared_error(y_test, y_pred))\n",
        "r2 = r2_score(y_test, y_pred)\n",
        "\n",
        "print(f'Mean Absolute Error: {mae:.2f}')\n",
        "print(f'Root Mean Squared Error: {rmse:.2f}')\n",
        "print(f'R-squared: {r2:.2f}')"
      ],
      "metadata": {
        "colab": {
          "base_uri": "https://localhost:8080/"
        },
        "id": "KfErwHhm0tIS",
        "outputId": "72ebbfdc-1725-45fd-fb16-c9f88a872fc3"
      },
      "execution_count": 13,
      "outputs": [
        {
          "output_type": "stream",
          "name": "stdout",
          "text": [
            "Mean Absolute Error: 1.96\n",
            "Root Mean Squared Error: 2.41\n",
            "R-squared: 0.09\n"
          ]
        }
      ]
    },
    {
      "cell_type": "code",
      "source": [
        "plt.figure(figsize=(10, 5))\n",
        "plt.plot(y_test.values, label='Actual Health Risk Score')\n",
        "plt.plot(y_pred, label='Predicted Health Risk Score', alpha=0.7)\n",
        "plt.legend()\n",
        "plt.xlabel('Sample Index')\n",
        "plt.ylabel('Health Risk Score')\n",
        "plt.title('Actual vs. Predicted Health Risk Score')\n",
        "plt.show()"
      ],
      "metadata": {
        "colab": {
          "base_uri": "https://localhost:8080/",
          "height": 487
        },
        "id": "knAlJSpe0xT5",
        "outputId": "51e2ed5d-9474-4a64-96d8-62ef602b3543"
      },
      "execution_count": 14,
      "outputs": [
        {
          "output_type": "display_data",
          "data": {
            "text/plain": [
              "<Figure size 1000x500 with 1 Axes>"
            ],
            "image/png": "[encoded data removed]"
          },
          "metadata": {}
        }
      ]
    },
    {
      "cell_type": "code",
      "source": [
        "def predict_health_risk_score(age, bmi, blood_pressure, cholesterol, smoking_status, physical_activity, diet_quality, scaler, model):\n",
        "    # Encode categorical variables\n",
        "    smoking_status = label_encoders['Smoking_Status'].transform([smoking_status])[0]\n",
        "    physical_activity = label_encoders['Physical_Activity'].transform([physical_activity])[0]\n",
        "    diet_quality = label_encoders['Diet_Quality'].transform([diet_quality])[0]\n",
        "\n",
        "    # Create a DataFrame for the input data\n",
        "    input_data = pd.DataFrame({\n",
        "        'Age': [age],\n",
        "        'BMI': [bmi],\n",
        "        'Blood_Pressure': [blood_pressure],\n",
        "        'Cholesterol': [cholesterol],\n",
        "        'Smoking_Status': [smoking_status],\n",
        "        'Physical_Activity': [physical_activity],\n",
        "        'Diet_Quality': [diet_quality]\n",
        "    })\n",
        "    input_data_scaled = scaler.transform(input_data)\n",
        "    prediction = model.predict(input_data_scaled)\n",
        "    return prediction[0]"
      ],
      "metadata": {
        "id": "c__QKIyB00zY"
      },
      "execution_count": 16,
      "outputs": []
    },
    {
      "cell_type": "code",
      "source": [
        "new_data = [\n",
        "    {\"age\": 55, \"bmi\": 28, \"blood_pressure\": 130, \"cholesterol\": 210, \"smoking_status\": \"No\", \"physical_activity\": \"Medium\", \"diet_quality\": \"Good\"},\n",
        "    {\"age\": 40, \"bmi\": 22, \"blood_pressure\": 115, \"cholesterol\": 180, \"smoking_status\": \"Yes\", \"physical_activity\": \"High\", \"diet_quality\": \"Average\"}\n",
        "]\n",
        "\n",
        "for data in new_data:\n",
        "    prediction = predict_health_risk_score(data['age'], data['bmi'], data['blood_pressure'], data['cholesterol'], data['smoking_status'], data['physical_activity'], data['diet_quality'], scaler, model)\n",
        "    print(f\"Age: {data['age']}, BMI: {data['bmi']}, Blood Pressure: {data['blood_pressure']}, Cholesterol: {data['cholesterol']}, Health Risk Score: {prediction:.2f}\")\n"
      ],
      "metadata": {
        "colab": {
          "base_uri": "https://localhost:8080/"
        },
        "id": "-HZ7eBBf07Ka",
        "outputId": "c3b9e17d-ae1c-42c1-eee4-e8aeb2fe8217"
      },
      "execution_count": 17,
      "outputs": [
        {
          "output_type": "stream",
          "name": "stdout",
          "text": [
            "Age: 55, BMI: 28, Blood Pressure: 130, Cholesterol: 210, Health Risk Score: 4.83\n",
            "Age: 40, BMI: 22, Blood Pressure: 115, Cholesterol: 180, Health Risk Score: 5.07\n"
          ]
        }
      ]
    },
    {
      "cell_type": "code",
      "source": [
        "while True:\n",
        "    try:\n",
        "        age = float(input(\"Enter your age: \"))\n",
        "        bmi = float(input(\"Enter your BMI: \"))\n",
        "        blood_pressure = float(input(\"Enter your blood pressure: \"))\n",
        "        cholesterol = float(input(\"Enter your cholesterol level: \"))\n",
        "        smoking_status = input(\"Are you a smoker? (Yes/No): \").strip().capitalize()\n",
        "        physical_activity = input(\"Enter your physical activity level (Low/Medium/High): \").strip().capitalize()\n",
        "        diet_quality = input(\"Enter your diet quality (Poor/Average/Good): \").strip().capitalize()\n",
        "\n",
        "        prediction = predict_health_risk_score(age, bmi, blood_pressure, cholesterol, smoking_status, physical_activity, diet_quality, scaler, model)\n",
        "        print(f\"Predicted Health Risk Score: {prediction:.2f}\\n\")\n",
        "    except ValueError:\n",
        "        print(\"Invalid input. Please enter valid values.\")\n",
        "    quit_input = input(\"Do you want to predict another health risk score? (yes/no): \")\n",
        "    if quit_input.lower() != 'yes':\n",
        "        break\n",
        "print(\"THANK YOU!\")"
      ],
      "metadata": {
        "colab": {
          "base_uri": "https://localhost:8080/"
        },
        "id": "3f2AVyCc1BXc",
        "outputId": "6394680e-e378-40a8-f771-b726949fa45c"
      },
      "execution_count": 20,
      "outputs": [
        {
          "output_type": "stream",
          "name": "stdout",
          "text": [
            "Enter your age: 35\n",
            "Enter your BMI: 83\n",
            "Enter your blood pressure: 85\n",
            "Enter your cholesterol level: 84\n",
            "Are you a smoker? (Yes/No): yes\n",
            "Enter your physical activity level (Low/Medium/High): Medium\n",
            "Enter your diet quality (Poor/Average/Good): good\n",
            "Predicted Health Risk Score: 9.97\n",
            "\n",
            "Do you want to predict another health risk score? (yes/no): no\n",
            "THANK YOU!\n"
          ]
        }
      ]
    }
  ]
}